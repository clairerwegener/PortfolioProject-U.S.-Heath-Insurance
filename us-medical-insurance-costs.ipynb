{
 "cells": [
  {
   "cell_type": "markdown",
   "metadata": {},
   "source": [
    "# U.S. Medical Insurance Costs"
   ]
  },
  {
   "cell_type": "markdown",
   "metadata": {},
   "source": [
    "From Codecademy for this Portfolio Project:\n",
    "\n",
    "Project Overview\n",
    "For this project, you will be investigating a medical insurance costs dataset in a .csv file using the Python skills that you have developed. This dataset and its parameters will seem familiar if you have done any of the previous Python projects in the data science path.\n",
    "\n",
    "However, you are now tasked with working with the actual information in the dataset and performing your own independent analysis on real-world data! We will not be providing step-by-step instructions on what to do, but we will provide you with a framework to structure your exploration and analysis.\n",
    "\n",
    "## My Project Overview ##\n",
    "\n",
    "### Guiding Question: What is the impact of an additional child on insurance costs?\n",
    "\n",
    "In order to determine this, I will analyze the dataset provided, calculate statistical metrics, and compare specific data points.\n",
    "\n",
    "First step: find the range in quantity of children per individual in the dataset; find the minimum and maximum children in the data set, along with the distribution of these quantities."
   ]
  },
  {
   "cell_type": "code",
   "execution_count": 57,
   "metadata": {},
   "outputs": [
    {
     "name": "stdout",
     "output_type": "stream",
     "text": [
      "No Children: 574 One Child: 324 Two Children: 240 Three Children: 157 Four Children: 25 Five Children: 18 Six Children: 0 More than Six Children: 0\n"
     ]
    }
   ],
   "source": [
    "import csv\n",
    "children_set = []\n",
    "\n",
    "with open('insurance.csv') as insurance_costs_file:\n",
    "    insurance_costs = csv.DictReader(insurance_costs_file)\n",
    "    for row in insurance_costs:\n",
    "        child_quant = row.get(\"children\")\n",
    "        children_set.append(child_quant)      \n",
    "#print(children_set)\n",
    "children_set.sort()\n",
    "\n",
    "no_children = 0\n",
    "one_child = 0\n",
    "two_children = 0\n",
    "three_children = 0\n",
    "four_children = 0\n",
    "five_children = 0\n",
    "six_children = 0\n",
    "more_than_six = 0\n",
    "\n",
    "for item in children_set:\n",
    "    if item == '0':\n",
    "        no_children += 1\n",
    "    elif item == '1':\n",
    "        one_child += 1\n",
    "    elif item == '2':\n",
    "        two_children += 1\n",
    "    elif item == '3':\n",
    "        three_children += 1\n",
    "    elif item == '4':\n",
    "        four_children += 1\n",
    "    elif item == '5':\n",
    "        five_children += 1\n",
    "    elif item == '6':\n",
    "        six_children += 1\n",
    "    else:\n",
    "        more_than_six += 1\n",
    "\n",
    "print(\"No Children: \" + str(no_children),\n",
    "      \"One Child: \" + str(one_child), \n",
    "      \"Two Children: \" + str(two_children), \n",
    "      \"Three Children: \" + str(three_children), \n",
    "      \"Four Children: \" + str(four_children), \n",
    "      \"Five Children: \" + str(five_children), \n",
    "      \"Six Children: \" + str(six_children), \n",
    "      \"More than Six Children: \" + str(more_than_six))"
   ]
  },
  {
   "cell_type": "markdown",
   "metadata": {},
   "source": [
    "## Histogram\n",
    "Based on the results of this analysis, the breakdown of the quantity of children in this data set can be displayed in histogram form as the following:"
   ]
  },
  {
   "cell_type": "code",
   "execution_count": 58,
   "metadata": {
    "scrolled": true
   },
   "outputs": [
    {
     "data": {
      "image/png": "[encoded data removed]",
      "text/plain": [
       "<Figure size 720x360 with 1 Axes>"
      ]
     },
     "metadata": {
      "needs_background": "light"
     },
     "output_type": "display_data"
    }
   ],
   "source": [
    "from matplotlib import pyplot as plt\n",
    "import numpy as np\n",
    "\n",
    "\n",
    "# Creating dataset\n",
    "a = np.array(children_set)\n",
    "\n",
    "# Creating histogram\n",
    "fig, ax = plt.subplots(figsize =(10, 5))\n",
    "ax.hist(a, bins = [0, 1, 2, 3, 4, 5, 6])\n",
    "\n",
    "# Show plot\n",
    "plt.show()"
   ]
  },
  {
   "cell_type": "markdown",
   "metadata": {},
   "source": [
    "## Average Costs\n",
    "To determine whether quantity of children has a significant impact on the charges incurred by customers, I created individual data sets for each quantity of children and calculated the averages on those sets."
   ]
  },
  {
   "cell_type": "code",
   "execution_count": 77,
   "metadata": {},
   "outputs": [
    {
     "name": "stdout",
     "output_type": "stream",
     "text": [
      "The average charge for customers with no children is: $12,365.98\n",
      "The average charge for customers with one child is: $12,731.17\n",
      "The average charge for customers with two childre is: $15,073.56\n",
      "The average charge for customers with three children is: $15,355.32\n",
      "The average charge for customers with four children is: $13,850.66\n",
      "The average charge for customers with five children is: $8,786.04\n"
     ]
    }
   ],
   "source": [
    "import csv\n",
    "no_children_costs = []\n",
    "one_child_costs = []\n",
    "two_children_costs = []\n",
    "three_children_costs = []\n",
    "four_children_costs = []\n",
    "five_children_costs = []\n",
    "\n",
    "with open('insurance.csv') as insurance_costs_file:\n",
    "    insurance_costs = csv.DictReader(insurance_costs_file)\n",
    "    for row in insurance_costs:\n",
    "        child_quant = row.get(\"children\")\n",
    "        charges = float(row.get(\"charges\"))\n",
    "        if child_quant == '0':\n",
    "            no_children_costs.append(charges)\n",
    "        elif child_quant == '1':\n",
    "            one_child_costs.append(charges)\n",
    "        elif child_quant == '2':\n",
    "            two_children_costs.append(charges)\n",
    "        elif child_quant == '3':\n",
    "            three_children_costs.append(charges)\n",
    "        elif child_quant == '4':\n",
    "            four_children_costs.append(charges)\n",
    "        elif child_quant == '5':\n",
    "            five_children_costs.append(charges)\n",
    "        \n",
    "#print(no_children_costs)\n",
    "#print(one_child_costs)\n",
    "#print(two_children_costs)\n",
    "#print(three_children_costs)\n",
    "#print(four_children_costs)\n",
    "#print(five_children_costs)\n",
    "\n",
    "import numpy\n",
    "average_nokids = \"${:,.2f}\".format(numpy.mean(no_children_costs))\n",
    "average_onekid = \"${:,.2f}\".format(numpy.mean(one_child_costs))\n",
    "average_twokids = \"${:,.2f}\".format(numpy.mean(two_children_costs))\n",
    "average_threekids = \"${:,.2f}\".format(numpy.mean(three_children_costs))\n",
    "average_fourkids = \"${:,.2f}\".format(numpy.mean(four_children_costs))\n",
    "average_fivekids = \"${:,.2f}\".format(numpy.mean(five_children_costs))\n",
    "\n",
    "print(\"The average charge for customers with no children is: \" + str(average_nokids))\n",
    "print(\"The average charge for customers with one child is: \" + str(average_onekid))\n",
    "print(\"The average charge for customers with two childre is: \" + str(average_twokids))\n",
    "print(\"The average charge for customers with three children is: \" + str(average_threekids))\n",
    "print(\"The average charge for customers with four children is: \" + str(average_fourkids))\n",
    "print(\"The average charge for customers with five children is: \" + str(average_fivekids))\n",
    "\n"
   ]
  },
  {
   "cell_type": "markdown",
   "metadata": {},
   "source": [
    "## Minimum, Maximum, and Range"
   ]
  },
  {
   "cell_type": "code",
   "execution_count": 91,
   "metadata": {},
   "outputs": [
    {
     "name": "stdout",
     "output_type": "stream",
     "text": [
      "The minimum charge for customers with no children is $1,121.87 and the maximum charge is $63,770.43, with a range of $62,648.55.\n",
      "The minimum charge for customers with one child is $1,711.03 and the maximum charge is $58,571.07, with a range of $56,860.05.\n",
      "The minimum charge for customers with two children is $2,304.00 and the maximum charge is $49,577.66, with a range of $47,273.66.\n",
      "The minimum charge for customers with three children is $3,443.06 and the maximum charge is $60,021.40, with a range of $56,578.33.\n",
      "The minimum charge for customers with four children is $4,504.66 and the maximum charge is $40,182.25, with a range of $35,677.58.\n",
      "The minimum charge for customers with five children is $4,687.80 and the maximum charge is $19,023.26, with a range of $14,335.46.\n"
     ]
    }
   ],
   "source": [
    "import numpy\n",
    "\n",
    "min_nokids = \"${:,.2f}\".format(numpy.min(no_children_costs))\n",
    "max_nokids = \"${:,.2f}\".format(numpy.max(no_children_costs))\n",
    "range_nokids = \"${:,.2f}\".format(numpy.max(no_children_costs) - numpy.min(no_children_costs))\n",
    "print(\"The minimum charge for customers with no children is \" + min_nokids + \" and the maximum charge is \" + max_nokids + \", with a range of \" + range_nokids + \".\")\n",
    "\n",
    "min_onekid = \"${:,.2f}\".format(numpy.min(one_child_costs))\n",
    "max_onekid = \"${:,.2f}\".format(numpy.max(one_child_costs))\n",
    "range_onekid = \"${:,.2f}\".format(numpy.max(one_child_costs) - numpy.min(one_child_costs))\n",
    "print(\"The minimum charge for customers with one child is \" + min_onekid + \" and the maximum charge is \" + max_onekid + \", with a range of \" + range_onekid + \".\")\n",
    "\n",
    "min_twokids = \"${:,.2f}\".format(numpy.min(two_children_costs))\n",
    "max_twokids = \"${:,.2f}\".format(numpy.max(two_children_costs))\n",
    "range_twokids = \"${:,.2f}\".format(numpy.max(two_children_costs) - numpy.min(two_children_costs))\n",
    "print(\"The minimum charge for customers with two children is \" + min_twokids + \" and the maximum charge is \" + max_twokids + \", with a range of \" + range_twokids + \".\")\n",
    "\n",
    "min_threekids = \"${:,.2f}\".format(numpy.min(three_children_costs))\n",
    "max_threekids = \"${:,.2f}\".format(numpy.max(three_children_costs))\n",
    "range_threekids = \"${:,.2f}\".format(numpy.max(three_children_costs) - numpy.min(three_children_costs))\n",
    "print(\"The minimum charge for customers with three children is \" + min_threekids + \" and the maximum charge is \" + max_threekids + \", with a range of \" + range_threekids + \".\")\n",
    "\n",
    "min_fourkids = \"${:,.2f}\".format(numpy.min(four_children_costs))\n",
    "max_fourkids = \"${:,.2f}\".format(numpy.max(four_children_costs))\n",
    "range_fourkids = \"${:,.2f}\".format(numpy.max(four_children_costs) - numpy.min(four_children_costs))\n",
    "print(\"The minimum charge for customers with four children is \" + min_fourkids + \" and the maximum charge is \" + max_fourkids + \", with a range of \" + range_fourkids + \".\")\n",
    "\n",
    "min_fivekids = \"${:,.2f}\".format(numpy.min(five_children_costs))\n",
    "max_fivekids = \"${:,.2f}\".format(numpy.max(five_children_costs))\n",
    "range_fivekids = \"${:,.2f}\".format(numpy.max(five_children_costs) - numpy.min(five_children_costs))\n",
    "print(\"The minimum charge for customers with five children is \" + min_fivekids + \" and the maximum charge is \" + max_fivekids + \", with a range of \" + range_fivekids + \".\")\n"
   ]
  },
  {
   "cell_type": "markdown",
   "metadata": {},
   "source": [
    "## Distribution"
   ]
  },
  {
   "cell_type": "code",
   "execution_count": 99,
   "metadata": {},
   "outputs": [
    {
     "data": {
      "image/png": "[encoded data removed]",
      "text/plain": [
       "<Figure size 432x288 with 1 Axes>"
      ]
     },
     "metadata": {
      "needs_background": "light"
     },
     "output_type": "display_data"
    }
   ],
   "source": [
    "x_no_children_costs = []\n",
    "for i in range(len(no_children_costs)):\n",
    "    x_no_children_costs.append(0) \n",
    "\n",
    "x_one_child_costs = []\n",
    "for i in range(len(one_child_costs)):\n",
    "    x_one_child_costs.append(1)\n",
    "\n",
    "x_two_children_costs = []\n",
    "for i in range(len(two_children_costs)):\n",
    "    x_two_children_costs.append(2)\n",
    "\n",
    "x_three_children_costs = []\n",
    "for i in range(len(three_children_costs)):\n",
    "    x_three_children_costs.append(3)\n",
    "\n",
    "x_four_children_costs = []\n",
    "for i in range(len(four_children_costs)):\n",
    "    x_four_children_costs.append(4)    \n",
    "    \n",
    "x_five_children_costs = []\n",
    "for i in range(len(five_children_costs)):\n",
    "    x_five_children_costs.append(5)\n",
    "\n",
    "import matplotlib.pyplot as plt\n",
    " \n",
    "x1 = x_no_children_costs \n",
    "y1 = no_children_costs\n",
    " \n",
    "x2 = x_one_child_costs\n",
    "y2 = one_child_costs\n",
    "\n",
    "x3 = x_two_children_costs\n",
    "y3 = two_children_costs\n",
    "\n",
    "x4 = x_three_children_costs\n",
    "y4 = three_children_costs\n",
    "\n",
    "x5 = x_four_children_costs\n",
    "y5 = four_children_costs\n",
    "\n",
    "x6 = x_five_children_costs\n",
    "y6 = five_children_costs\n",
    " \n",
    "plt.scatter(x1, y1, c =\"pink\",\n",
    "            linewidths = 1,\n",
    "            marker =\"^\",\n",
    "            s = 100)\n",
    " \n",
    "plt.scatter(x2, y2, c =\"green\",\n",
    "            linewidths = 1,\n",
    "            marker =\"^\",\n",
    "            s = 100)\n",
    "\n",
    "plt.scatter(x3, y3, c =\"red\",\n",
    "            linewidths = 1,\n",
    "            marker =\"^\",\n",
    "            s = 100)\n",
    "\n",
    "plt.scatter(x4, y4, c =\"blue\",\n",
    "            linewidths = 1,\n",
    "            marker =\"^\",\n",
    "            s = 100)\n",
    "\n",
    "plt.scatter(x5, y5, c =\"yellow\",\n",
    "            linewidths = 1,\n",
    "            marker =\"^\",\n",
    "            s = 100)\n",
    "\n",
    "plt.scatter(x6, y6, c =\"black\",\n",
    "            linewidths = 1,\n",
    "            marker =\"^\",\n",
    "            s = 100)\n",
    " \n",
    "plt.xlabel(\"Number of Children\")\n",
    "plt.ylabel(\"Charges (in Dollars)\")\n",
    "plt.show()"
   ]
  },
  {
   "cell_type": "markdown",
   "metadata": {},
   "source": [
    "# Discussion\n",
    "The analysis demonstrates that number of children has very little impact on insurance charges."
   ]
  },
  {
   "cell_type": "code",
   "execution_count": null,
   "metadata": {},
   "outputs": [],
   "source": []
  }
 ],
 "metadata": {
  "kernelspec": {
   "display_name": "Python 3 (ipykernel)",
   "language": "python",
   "name": "python3"
  },
  "language_info": {
   "codemirror_mode": {
    "name": "ipython",
    "version": 3
   },
   "file_extension": ".py",
   "mimetype": "text/x-python",
   "name": "python",
   "nbconvert_exporter": "python",
   "pygments_lexer": "ipython3",
   "version": "3.9.12"
  }
 },
 "nbformat": 4,
 "nbformat_minor": 4
}
